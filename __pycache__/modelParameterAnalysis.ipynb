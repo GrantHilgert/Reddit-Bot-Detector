{
 "cells": [
  {
   "cell_type": "code",
   "execution_count": 11,
   "metadata": {},
   "outputs": [],
   "source": [
    "import pandas as pd\n",
    "import matplotlib.pyplot as plt\n",
    "import numpy as np\n",
    "from sklearn.linear_model import LogisticRegression\n",
    "import pickle\n"
   ]
  },
  {
   "cell_type": "code",
   "execution_count": 12,
   "metadata": {},
   "outputs": [
    {
     "data": {
      "text/html": [
       "<div>\n",
       "<style scoped>\n",
       "    .dataframe tbody tr th:only-of-type {\n",
       "        vertical-align: middle;\n",
       "    }\n",
       "\n",
       "    .dataframe tbody tr th {\n",
       "        vertical-align: top;\n",
       "    }\n",
       "\n",
       "    .dataframe thead th {\n",
       "        text-align: right;\n",
       "    }\n",
       "</style>\n",
       "<table border=\"1\" class=\"dataframe\">\n",
       "  <thead>\n",
       "    <tr style=\"text-align: right;\">\n",
       "      <th></th>\n",
       "      <th>count_similarity</th>\n",
       "      <th>tfidf_similarity</th>\n",
       "      <th>comment_rate</th>\n",
       "      <th>top_level_proportion</th>\n",
       "      <th>reply_time</th>\n",
       "      <th>isBot</th>\n",
       "    </tr>\n",
       "  </thead>\n",
       "  <tbody>\n",
       "    <tr>\n",
       "      <th>count</th>\n",
       "      <td>1286.000000</td>\n",
       "      <td>1286.000000</td>\n",
       "      <td>1.286000e+03</td>\n",
       "      <td>1286.000000</td>\n",
       "      <td>1.286000e+03</td>\n",
       "      <td>1286.000000</td>\n",
       "    </tr>\n",
       "    <tr>\n",
       "      <th>mean</th>\n",
       "      <td>0.198783</td>\n",
       "      <td>0.120824</td>\n",
       "      <td>2.483005e-04</td>\n",
       "      <td>0.414488</td>\n",
       "      <td>1.029032e+04</td>\n",
       "      <td>0.143079</td>\n",
       "    </tr>\n",
       "    <tr>\n",
       "      <th>std</th>\n",
       "      <td>0.234944</td>\n",
       "      <td>0.177965</td>\n",
       "      <td>1.838286e-03</td>\n",
       "      <td>0.277552</td>\n",
       "      <td>4.389820e+04</td>\n",
       "      <td>0.350290</td>\n",
       "    </tr>\n",
       "    <tr>\n",
       "      <th>min</th>\n",
       "      <td>0.004578</td>\n",
       "      <td>0.004549</td>\n",
       "      <td>3.930000e-07</td>\n",
       "      <td>0.000000</td>\n",
       "      <td>0.000000e+00</td>\n",
       "      <td>0.000000</td>\n",
       "    </tr>\n",
       "    <tr>\n",
       "      <th>25%</th>\n",
       "      <td>0.076307</td>\n",
       "      <td>0.050488</td>\n",
       "      <td>1.392500e-05</td>\n",
       "      <td>0.200000</td>\n",
       "      <td>1.769125e+03</td>\n",
       "      <td>0.000000</td>\n",
       "    </tr>\n",
       "    <tr>\n",
       "      <th>50%</th>\n",
       "      <td>0.110902</td>\n",
       "      <td>0.063125</td>\n",
       "      <td>2.855000e-05</td>\n",
       "      <td>0.380000</td>\n",
       "      <td>6.294500e+03</td>\n",
       "      <td>0.000000</td>\n",
       "    </tr>\n",
       "    <tr>\n",
       "      <th>75%</th>\n",
       "      <td>0.175203</td>\n",
       "      <td>0.085941</td>\n",
       "      <td>7.160000e-05</td>\n",
       "      <td>0.600000</td>\n",
       "      <td>1.262750e+04</td>\n",
       "      <td>0.000000</td>\n",
       "    </tr>\n",
       "    <tr>\n",
       "      <th>max</th>\n",
       "      <td>1.000000</td>\n",
       "      <td>1.000000</td>\n",
       "      <td>4.480287e-02</td>\n",
       "      <td>1.000000</td>\n",
       "      <td>1.480904e+06</td>\n",
       "      <td>1.000000</td>\n",
       "    </tr>\n",
       "  </tbody>\n",
       "</table>\n",
       "</div>"
      ],
      "text/plain": [
       "       count_similarity  tfidf_similarity  comment_rate  top_level_proportion  \\\n",
       "count       1286.000000       1286.000000  1.286000e+03           1286.000000   \n",
       "mean           0.198783          0.120824  2.483005e-04              0.414488   \n",
       "std            0.234944          0.177965  1.838286e-03              0.277552   \n",
       "min            0.004578          0.004549  3.930000e-07              0.000000   \n",
       "25%            0.076307          0.050488  1.392500e-05              0.200000   \n",
       "50%            0.110902          0.063125  2.855000e-05              0.380000   \n",
       "75%            0.175203          0.085941  7.160000e-05              0.600000   \n",
       "max            1.000000          1.000000  4.480287e-02              1.000000   \n",
       "\n",
       "         reply_time        isBot  \n",
       "count  1.286000e+03  1286.000000  \n",
       "mean   1.029032e+04     0.143079  \n",
       "std    4.389820e+04     0.350290  \n",
       "min    0.000000e+00     0.000000  \n",
       "25%    1.769125e+03     0.000000  \n",
       "50%    6.294500e+03     0.000000  \n",
       "75%    1.262750e+04     0.000000  \n",
       "max    1.480904e+06     1.000000  "
      ]
     },
     "execution_count": 12,
     "metadata": {},
     "output_type": "execute_result"
    }
   ],
   "source": [
    "data = pd.read_csv('botData.csv')\n",
    "data.describe()"
   ]
  },
  {
   "cell_type": "code",
   "execution_count": 13,
   "metadata": {},
   "outputs": [],
   "source": [
    "from sklearn.model_selection import train_test_split\n",
    "\n",
    "train, test = train_test_split(data, test_size=0.25, random_state=1)\n",
    "\n",
    "from sklearn.model_selection import KFold\n",
    "from sklearn.model_selection import cross_val_score\n",
    "from sklearn.model_selection import cross_val_predict \n",
    "\n",
    "train_Y = train['isBot']\n",
    "train_X = train.drop(columns = ['isBot', 'author'], axis = 1)\n",
    "\n",
    "test_Y = test['isBot']\n",
    "test_X = test.drop(columns = ['isBot', 'author'], axis = 1)\n",
    "\n",
    "models = []\n",
    "modelScores = []\n",
    "modelSTD = []"
   ]
  },
  {
   "cell_type": "code",
   "execution_count": 14,
   "metadata": {},
   "outputs": [
    {
     "name": "stderr",
     "output_type": "stream",
     "text": [
      "C:\\Users\\matt\\Anaconda3\\envs\\titanic_conda\\lib\\site-packages\\sklearn\\metrics\\classification.py:1143: UndefinedMetricWarning: F-score is ill-defined and being set to 0.0 due to no predicted samples.\n",
      "  'precision', 'predicted', average, warn_for)\n",
      "C:\\Users\\matt\\Anaconda3\\envs\\titanic_conda\\lib\\site-packages\\sklearn\\metrics\\classification.py:1143: UndefinedMetricWarning: F-score is ill-defined and being set to 0.0 due to no predicted samples.\n",
      "  'precision', 'predicted', average, warn_for)\n"
     ]
    }
   ],
   "source": [
    "LR_model = LogisticRegression(solver = 'lbfgs', penalty = 'l2')\n",
    "LR_model.fit(train_X, train_Y)\n",
    "\n",
    "KF = KFold(n_splits=5, random_state=1)\n",
    "CV = cross_val_score(LR_model,train_X,train_Y,cv=KF, scoring='f1')\n",
    "models.append('LogisticRegression')\n",
    "modelScores.append(round(CV.mean(),3))\n",
    "modelSTD.append(round(CV.std(),3))"
   ]
  },
  {
   "cell_type": "code",
   "execution_count": 15,
   "metadata": {},
   "outputs": [
    {
     "name": "stdout",
     "output_type": "stream",
     "text": [
      "Fitting 5 folds for each of 75 candidates, totalling 375 fits\n"
     ]
    },
    {
     "name": "stderr",
     "output_type": "stream",
     "text": [
      "[Parallel(n_jobs=-1)]: Using backend LokyBackend with 12 concurrent workers.\n",
      "[Parallel(n_jobs=-1)]: Done  26 tasks      | elapsed:    3.4s\n",
      "[Parallel(n_jobs=-1)]: Done 176 tasks      | elapsed:   15.5s\n",
      "[Parallel(n_jobs=-1)]: Done 375 out of 375 | elapsed:   32.3s finished\n"
     ]
    },
    {
     "name": "stdout",
     "output_type": "stream",
     "text": [
      "0.9743214350579495\n",
      "{'bootstrap': True, 'criterion': 'gini', 'max_depth': None, 'max_features': 2, 'min_samples_leaf': 3, 'min_samples_split': 4, 'n_estimators': 500}\n"
     ]
    }
   ],
   "source": [
    "from sklearn.model_selection import GridSearchCV\n",
    "from sklearn.ensemble import RandomForestClassifier\n",
    "\n",
    "RFC = RandomForestClassifier()\n",
    "\n",
    "\n",
    "RF_grid = {\"max_depth\": [None],\n",
    "              \"max_features\": [2,3,4],\n",
    "              \"min_samples_split\": [4, 6, 8, 10, 12],\n",
    "              \"min_samples_leaf\": [3,5,7,9,11],\n",
    "              \"bootstrap\": [True],\n",
    "              \"n_estimators\" :[500],\n",
    "              \"criterion\": [\"gini\"]}\n",
    "\n",
    "gsRFC = GridSearchCV(RFC,param_grid = RF_grid, cv=5, scoring='f1', n_jobs= -1, verbose = 1)\n",
    "\n",
    "gsRFC.fit(train_X,train_Y)\n",
    "\n",
    "RFC_best = gsRFC.best_estimator_\n",
    "\n",
    "# Best score\n",
    "print(gsRFC.best_score_)\n",
    "print(gsRFC.best_params_)"
   ]
  },
  {
   "cell_type": "code",
   "execution_count": 16,
   "metadata": {},
   "outputs": [
    {
     "data": {
      "text/plain": [
       "Text(0.5, 1.0, 'Feature Importance')"
      ]
     },
     "execution_count": 16,
     "metadata": {},
     "output_type": "execute_result"
    },
    {
     "data": {
      "image/png": "[encoded data removed]",
      "text/plain": [
       "<Figure size 1440x576 with 1 Axes>"
      ]
     },
     "metadata": {
      "needs_background": "light"
     },
     "output_type": "display_data"
    }
   ],
   "source": [
    "import seaborn as sns\n",
    "from sklearn.ensemble import RandomForestClassifier\n",
    "from sklearn.metrics import f1_score\n",
    "#Random Forest\n",
    "RF_model = RandomForestClassifier(bootstrap= True, oob_score = True,\n",
    " criterion = 'gini',\n",
    " max_depth = None,\n",
    " max_features=2,\n",
    " min_samples_leaf = 3,\n",
    " min_samples_split = 6,\n",
    " n_estimators = 1000, random_state=1)\n",
    "\n",
    "RF_model.fit(train_X, train_Y)\n",
    "\n",
    "\n",
    "CV=cross_val_score(RF_model,train_X,train_Y,cv=KF, scoring='f1')\n",
    "models.append('RandomForest')\n",
    "\n",
    "modelScores.append(round(CV.mean(),3))\n",
    "modelSTD.append(round(CV.std(),3))\n",
    "\n",
    "featureImportance = pd.concat((pd.DataFrame(train_X.columns, columns = ['Feature']), \n",
    "           pd.DataFrame(RF_model.feature_importances_, columns = ['Importance'])), \n",
    "          axis = 1).sort_values(by='Importance', ascending = False)[:20]\n",
    "plt.subplots(figsize=(20,8))\n",
    "sns.barplot(x=featureImportance['Feature'], y=featureImportance['Importance'], alpha=.5).set_title('Feature Importance')"
   ]
  },
  {
   "cell_type": "code",
   "execution_count": 17,
   "metadata": {},
   "outputs": [],
   "source": [
    "pkl_filename = \"RF_model_for_bot.pkl\"\n",
    "with open(pkl_filename, 'wb') as file:\n",
    "    pickle.dump(RF_model, file)"
   ]
  },
  {
   "cell_type": "code",
   "execution_count": 18,
   "metadata": {},
   "outputs": [
    {
     "data": {
      "text/html": [
       "<div>\n",
       "<style scoped>\n",
       "    .dataframe tbody tr th:only-of-type {\n",
       "        vertical-align: middle;\n",
       "    }\n",
       "\n",
       "    .dataframe tbody tr th {\n",
       "        vertical-align: top;\n",
       "    }\n",
       "\n",
       "    .dataframe thead th {\n",
       "        text-align: right;\n",
       "    }\n",
       "</style>\n",
       "<table border=\"1\" class=\"dataframe\">\n",
       "  <thead>\n",
       "    <tr style=\"text-align: right;\">\n",
       "      <th></th>\n",
       "      <th>CV Score</th>\n",
       "      <th>Std</th>\n",
       "    </tr>\n",
       "  </thead>\n",
       "  <tbody>\n",
       "    <tr>\n",
       "      <th>LogisticRegression</th>\n",
       "      <td>0.545</td>\n",
       "      <td>0.445</td>\n",
       "    </tr>\n",
       "    <tr>\n",
       "      <th>RandomForest</th>\n",
       "      <td>0.971</td>\n",
       "      <td>0.032</td>\n",
       "    </tr>\n",
       "  </tbody>\n",
       "</table>\n",
       "</div>"
      ],
      "text/plain": [
       "                    CV Score    Std\n",
       "LogisticRegression     0.545  0.445\n",
       "RandomForest           0.971  0.032"
      ]
     },
     "execution_count": 18,
     "metadata": {},
     "output_type": "execute_result"
    }
   ],
   "source": [
    "ModelComparison=pd.DataFrame({'CV Score':modelScores, 'Std':modelSTD}, index=models)\n",
    "ModelComparison"
   ]
  },
  {
   "cell_type": "code",
   "execution_count": 19,
   "metadata": {},
   "outputs": [],
   "source": [
    "y_true = test_Y.reset_index().drop(columns=['index'])\n",
    "true_values = y_true['isBot'].values"
   ]
  },
  {
   "cell_type": "code",
   "execution_count": 20,
   "metadata": {},
   "outputs": [
    {
     "name": "stdout",
     "output_type": "stream",
     "text": [
      "Confusion matrix, without normalization\n",
      "[[274   2]\n",
      " [  0  46]]\n"
     ]
    },
    {
     "data": {
      "image/png": "[encoded data removed]",
      "text/plain": [
       "<Figure size 432x288 with 2 Axes>"
      ]
     },
     "metadata": {
      "needs_background": "light"
     },
     "output_type": "display_data"
    }
   ],
   "source": [
    "from sklearn.metrics import confusion_matrix\n",
    "import itertools\n",
    "predictions = RF_model.predict(test_X)\n",
    "cnf_matrix = confusion_matrix(true_values, predictions)\n",
    "np.set_printoptions(precision=2)\n",
    "\n",
    "\n",
    "def plot_confusion_matrix(cm, classes,\n",
    "                          normalize=False,\n",
    "                          title='Confusion matrix',\n",
    "                          cmap=plt.cm.Blues):\n",
    "\n",
    "\n",
    "    print(cm)\n",
    "\n",
    "    plt.imshow(cm, interpolation='nearest', cmap=cmap)\n",
    "    plt.title(title)\n",
    "    plt.colorbar()\n",
    "    tick_marks = np.arange(len(classes))\n",
    "    plt.xticks(tick_marks, classes, rotation=45)\n",
    "    plt.yticks(tick_marks, classes)\n",
    "\n",
    "    fmt = '.2f' if normalize else 'd'\n",
    "    thresh = cm.max() / 2.\n",
    "    for i, j in itertools.product(range(cm.shape[0]), range(cm.shape[1])):\n",
    "        plt.text(j, i, format(cm[i, j], fmt),\n",
    "                 horizontalalignment=\"center\",\n",
    "                 color=\"white\" if cm[i, j] > thresh else \"black\")\n",
    "\n",
    "    plt.ylabel('True label')\n",
    "    plt.xlabel('Predicted label')\n",
    "    plt.tight_layout()\n",
    "\n",
    "\n",
    "plt.figure()\n",
    "class_names = ['Human', 'Bot']\n",
    "plot_confusion_matrix(cnf_matrix, classes=class_names,\n",
    "                      title='Confusion matrix')"
   ]
  },
  {
   "cell_type": "code",
   "execution_count": null,
   "metadata": {},
   "outputs": [],
   "source": []
  }
 ],
 "metadata": {
  "kernelspec": {
   "display_name": "Python 3",
   "language": "python",
   "name": "python3"
  },
  "language_info": {
   "codemirror_mode": {
    "name": "ipython",
    "version": 3
   },
   "file_extension": ".py",
   "mimetype": "text/x-python",
   "name": "python",
   "nbconvert_exporter": "python",
   "pygments_lexer": "ipython3",
   "version": "3.6.6"
  }
 },
 "nbformat": 4,
 "nbformat_minor": 2
}
